{
 "cells": [
  {
   "cell_type": "markdown",
   "id": "55c1cb5d",
   "metadata": {},
   "source": [
    "# Consigna:\n",
    "<img src=\"./1R_Control_2017-xx-xx_collazo.JPG\" align=\"center\" width=\"80%\" />"
   ]
  },
  {
   "cell_type": "markdown",
   "id": "663aa9c3",
   "metadata": {},
   "source": [
    "# Ejercicio 1\n",
    "Se nos hace saber que tenemos un sistema con una $G_{(S)}$ cuyos polos y ceros estan en la imagen y que su H es 1 por lo tanto$\\rightarrow$\n",
    "$$M_{(S)}=\\frac{G_{(S)}}{1+G_{(S)}*H_{(S)}}$$\n",
    "Por inspeccion de los polos y ceros la $G_{(S)}$ tiene esta forma:\n",
    "$$\\frac{S + 4}{\\left(S + 1\\right) \\left(S + 2\\right) \\left(S + 6\\right)}=\\frac{S+4}{S^{3} + 9 S^{2} + 20 S + 12}$$\n",
    "Entonces $M_{(S)}$sera:\n",
    "$$\\frac{S + 4}{\\left(1 + \\frac{S + 4}{\\left(S + 1\\right) \\left(S + 2\\right) \\left(S + 6\\right)}\\right) \\left(S + 1\\right) \\left(S + 2\\right) \\left(S + 6\\right)}=\\frac{S + 4}{S + \\left(S + 1\\right) \\left(S + 2\\right) \\left(S + 6\\right) + 4}$$"
   ]
  },
  {
   "cell_type": "code",
   "execution_count": 2,
   "id": "767637b4",
   "metadata": {},
   "outputs": [],
   "source": [
    "from scipy import signal\n",
    "from sympy import *\n",
    "import matplotlib.pyplot as plt\n",
    "import math as m\n",
    "#from splane import pzmap, grpDelay, bodePlot\n",
    "import numpy as np\n",
    "S,t = symbols('S,t')"
   ]
  },
  {
   "cell_type": "code",
   "execution_count": 64,
   "id": "b9c6950f",
   "metadata": {},
   "outputs": [
    {
     "name": "stdout",
     "output_type": "stream",
     "text": [
      "        S + 4        \n",
      "─────────────────────\n",
      " 3      2            \n",
      "S  + 9⋅S  + 21⋅S + 16\n",
      "               1               \n",
      "───────────────────────────────\n",
      "  ⎛             S + 4         ⎞\n",
      "S⋅⎜1 + ───────────────────────⎟\n",
      "  ⎝    (S + 1)⋅(S + 2)⋅(S + 6)⎠\n",
      "e(inf)=\n",
      "                  1             \n",
      " lim ───────────────────────────\n",
      "S─→0⁺             S + 4         \n",
      "     1 + ───────────────────────\n",
      "         (S + 1)⋅(S + 2)⋅(S + 6)\n",
      "Calculando e(inf)=\n",
      "3/4\n"
     ]
    }
   ],
   "source": [
    "G_s=(S+4)/((S+6)*(S+2)*(S+1))\n",
    "M_s=G_s/(1+G_s)\n",
    "R_s=1/S\n",
    "pprint(factor(M_s))\n",
    "###Error=R(S)*1/(1+G(S))\n",
    "Error=R_s*1/(1+G_s)\n",
    "pprint(Error)\n",
    "\n",
    "###Aplico teorema del valor final\n",
    "expr = Limit(S*Error, S, 0)\n",
    "print(\"e(inf)=\")\n",
    "pprint(expr)\n",
    "print(\"Calculando e(inf)=\")\n",
    "pprint(expr.doit())"
   ]
  },
  {
   "cell_type": "code",
   "execution_count": 12,
   "id": "5c659394",
   "metadata": {},
   "outputs": [
    {
     "name": "stdout",
     "output_type": "stream",
     "text": [
      "        S + 4        \n",
      "─────────────────────\n",
      " 3      2            \n",
      "S  + 9⋅S  + 21⋅S + 16\n"
     ]
    },
    {
     "data": {
      "image/png": "[encoded data removed]",
      "text/plain": [
       "<Figure size 432x288 with 1 Axes>"
      ]
     },
     "metadata": {
      "needs_background": "light"
     },
     "output_type": "display_data"
    },
    {
     "name": "stdout",
     "output_type": "stream",
     "text": [
      "[-5.90057187 -1.54971406 -1.54971406] [ 0.          0.55676557 -0.55676557]\n"
     ]
    }
   ],
   "source": [
    "M_s=G_s/(1+G_s)\n",
    "pprint(factor(M_s))\n",
    "\n",
    "Num=[1,4]\n",
    "Den=[1,9,21,16]\n",
    "z, p, k = signal.tf2zpk(Num, Den)\n",
    "plt.plot(np.real(z), np.imag(z), 'or')\n",
    "plt.plot(np.real(p), np.imag(p), 'xb')\n",
    "plt.legend(['Zeros', 'Poles'], loc=2)\n",
    "plt.title('Pole / Zero Plot')\n",
    "plt.ylabel('Imaginary')\n",
    "plt.xlabel('Real')\n",
    "plt.grid()\n",
    "plt.show()\n",
    "print(np.real(p),np.imag(p))"
   ]
  },
  {
   "cell_type": "markdown",
   "id": "5f5f1d35",
   "metadata": {},
   "source": [
    "<img src=\"./Capture1.PNG\" align=\"center\" width=\"80%\" />\n",
    "$$\\frac{\\omega_n^2}{S^2+2*\\xi*\\omega_n*S+\\omega_n^2}$$\n",
    "\n",
    "$$t_s\\approx \\frac{4}{\\xi*\\omega_n}$$\n",
    "$$M_{or}=e^{-\\frac{\\pi\\xi}{\\sqrt{1-\\xi^2}}}$$\n",
    "$$\\omega_d=\\omega_n*\\sqrt{1-\\xi^2}$$\n",
    "$$t_p=\\frac{\\pi}{\\omega_d}$$\n",
    "De la tabla del apunte el $\\xi$ tiene que ser mayor a 0.59\n",
    "Y por consigna que el ts=2"
   ]
  },
  {
   "cell_type": "code",
   "execution_count": 25,
   "id": "795a76b7",
   "metadata": {},
   "outputs": [
    {
     "data": {
      "image/png": "[encoded data removed]",
      "text/plain": [
       "<Figure size 432x288 with 1 Axes>"
      ]
     },
     "metadata": {
      "needs_background": "light"
     },
     "output_type": "display_data"
    },
    {
     "name": "stdout",
     "output_type": "stream",
     "text": [
      "2.85714285714286/((S + 2.0 - 2.04040812244081*I)*(S + 2.0 + 2.04040812244081*I))\n",
      "       2.85714285714286      \n",
      "─────────────────────────────\n",
      " 2                           \n",
      "S  + 4.0⋅S + 8.16326530612245\n"
     ]
    }
   ],
   "source": [
    "##Entonces hago por ejemplo xi=0.7\n",
    "xi=0.7\n",
    "ts=2\n",
    "wn=4/(xi*ts)\n",
    "wd=wn*sqrt(1-xi**2)\n",
    "plt.plot([-xi*wn,-xi*wn], [-wd,wd], 'xb')\n",
    "plt.legend(['Zeros', 'Poles'], loc=2)\n",
    "plt.title('Pole / Zero Plot')\n",
    "plt.ylabel('Imaginary')\n",
    "plt.xlabel('Real')\n",
    "plt.grid()\n",
    "plt.show()\n",
    "##Con esto ya se como me tiene que quedar la funcion ahora busco que quede similar\n",
    "###M_prima=wn/((S-(-xi*wn-wd*I))*(S-(-xi*wn+wd*I)))\n",
    "M_prima=wn/((S-(-xi*wn-wd*I))*(S-(-xi*wn+wd*I)))\n",
    "print(\"M_prima\")\n",
    "pprint(expand(M_prima))"
   ]
  },
  {
   "cell_type": "code",
   "execution_count": 71,
   "id": "32c4cf98",
   "metadata": {},
   "outputs": [
    {
     "name": "stdout",
     "output_type": "stream",
     "text": [
      " 8.16\n",
      "─────\n",
      "S + 4\n",
      "      S⋅(S + 4)      \n",
      "─────────────────────\n",
      " 3      2            \n",
      "S  + 9⋅S  + 20⋅S + 12\n",
      "g_c=\n",
      "      3          2                  \n",
      "8.16⋅S  + 73.44⋅S  + 163.2⋅S + 97.92\n",
      "────────────────────────────────────\n",
      "                      2             \n",
      "             S⋅(S + 4)              \n",
      "G prima=\n",
      "        ⎛ 3      2            ⎞  \n",
      "   8.16⋅⎝S  + 9⋅S  + 20⋅S + 12⎠  \n",
      "─────────────────────────────────\n",
      "S⋅(S + 1)⋅(S + 2)⋅(S + 4)⋅(S + 6)\n",
      "M_prima\n",
      "                 3          2                            \n",
      "           8.16⋅S  + 73.44⋅S  + 163.2⋅S + 97.92          \n",
      "─────────────────────────────────────────────────────────\n",
      "     5         4          3           2                  \n",
      "1.0⋅S  + 13.0⋅S  + 64.16⋅S  + 165.44⋅S  + 211.2⋅S + 97.92\n"
     ]
    }
   ],
   "source": [
    "##despejo a mano num y den\n",
    "Nume=8.16/(S+4)\n",
    "Deno=S*(S+4)/(S**3+9*S**2+20*S+12)\n",
    "pprint(Nume)\n",
    "pprint(Deno)\n",
    "g_c=Nume/Deno\n",
    "print(\"g_c=\")\n",
    "pprint(simplify(g_c))\n",
    "\n",
    "G_prima=g_c*G_s\n",
    "print(\"G prima=\")\n",
    "pprint(G_prima)\n",
    "print(\"M_prima\")\n",
    "M_prima=G_prima/(1+G_prima)\n",
    "pprint(simplify(M_prima))"
   ]
  },
  {
   "cell_type": "markdown",
   "id": "919fc8cb",
   "metadata": {},
   "source": [
    "# Inciso d)\n",
    "$$M_{(S)}=\\frac{8.16 S^{3} + 73.44 S^{2} + 163.2 S + 97.92}{1.0 S^{5} + 13.0 S^{4} + 64.\n",
    "16 S^{3} + 165.44 S^{2} + 211.2 S + 97.92}$$\n",
    "$$M_{(S)}=\\frac{S + 4}{S + \\left(S + 1\\right) \\left(S + 2\\right) \\left(S + 6\\right) + 4}$$\n",
    "\n",
    "<img src=\"./Capture3.PNG\" align=\"center\" width=\"80%\" />"
   ]
  },
  {
   "cell_type": "code",
   "execution_count": 76,
   "id": "4798516a",
   "metadata": {},
   "outputs": [
    {
     "name": "stdout",
     "output_type": "stream",
     "text": [
      "        3                   2                                            \n",
      "       S                 9⋅S                20⋅S                12       \n",
      "──────────────── + ──────────────── + ──────────────── + ────────────────\n",
      " 3      2           3      2           3      2           3      2       \n",
      "S  + 8⋅S  + 16⋅S   S  + 8⋅S  + 16⋅S   S  + 8⋅S  + 16⋅S   S  + 8⋅S  + 16⋅S\n"
     ]
    }
   ],
   "source": [
    "a=expand((S+6)*(S+2)*(S+1)/(S*(S+4)**2))\n",
    "pprint(a)"
   ]
  },
  {
   "cell_type": "code",
   "execution_count": null,
   "id": "b9504822",
   "metadata": {},
   "outputs": [],
   "source": []
  }
 ],
 "metadata": {
  "kernelspec": {
   "display_name": "Python 3",
   "language": "python",
   "name": "python3"
  },
  "language_info": {
   "codemirror_mode": {
    "name": "ipython",
    "version": 3
   },
   "file_extension": ".py",
   "mimetype": "text/x-python",
   "name": "python",
   "nbconvert_exporter": "python",
   "pygments_lexer": "ipython3",
   "version": "3.8.8"
  }
 },
 "nbformat": 4,
 "nbformat_minor": 5
}
